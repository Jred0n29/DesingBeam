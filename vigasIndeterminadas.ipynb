{
 "cells": [
  {
   "cell_type": "code",
   "execution_count": 3,
   "id": "ef8fce57",
   "metadata": {},
   "outputs": [],
   "source": [
    "import numpy as np\n",
    "import sympy as sp\n",
    "\n",
    "from IPython.display import display,HTML,Math\n",
    "import matplotlib.pyplot as plt\n",
    "import matplotlib.patches as patches"
   ]
  },
  {
   "cell_type": "code",
   "execution_count": 84,
   "id": "dcb174f2",
   "metadata": {},
   "outputs": [],
   "source": [
    "class Cargasindeterminadas():\n",
    "    def __init__(self):\n",
    "        self.graficas = []\n",
    "    \n",
    "    def diseño_viga_apoyada(self,ax,longitudviga):\n",
    "        \"\"\"\"\n",
    "        Este metodo se encarga de graficar la viga apoyada en el eje x\n",
    "        inicialmente la longitud de la viga será de 18 metros, este paramtro \n",
    "        se puede modificar en la funcion pasandole un valor numerico\n",
    "        \"\"\"\n",
    "        coordenada_y = 0\n",
    "        coordenada_x = 0\n",
    "        vertices = [(coordenada_x,coordenada_y),longitudviga,-0.05]\n",
    "        self.vC = vertices #vertices cuadrado\n",
    "        ax.add_patch(\n",
    "            patches.Rectangle(\n",
    "            self.vC[0],\n",
    "            self.vC[1],\n",
    "            self.vC[2],\n",
    "            fill=False,\n",
    "            label='viga apoyada',\n",
    "            color=(\"black\"),\n",
    "            linewidth=1.8\n",
    "             ))\n",
    "        return plt.plot()\n",
    "    \n",
    "# -/-/-/-/-/-/-/-/-/-/-/-/-/-/-/-/-/-/-/-/-/-/-/-/-/-/-/-/-/-/-/-/-/-/-/-/-/-/-/-/-/-    \n",
    "    def funciones(self,valor_final_x,ax):\n",
    "        \"\"\"\n",
    "        Este metodo se encarga de graficar la funcion de carga\n",
    "        primero se genera una matriz de 1000 valores que tiene \n",
    "        como valor inicial 0 y valor final la varable valor_final_x\n",
    "        \n",
    "        return:\n",
    "            retorna la grafica de la funcion de carga\n",
    "        \"\"\"\n",
    "        \n",
    "        X = np.linspace(0,valor_final_x,1000)\n",
    "        Y = X**2\n",
    "        \n",
    "        plt.plot(X,Y)\n",
    "        ax.fill_between(X,0,Y, color=\"blue\", alpha=0.2)\n",
    "        return plt.plot()\n",
    "    \n",
    "    def area_and_xbarra(self,longitud_viga):\n",
    "        \n",
    "        #variables\n",
    "        x = sp.Symbol('x')\n",
    "        self.funcion_carga = x**2 \n",
    "        self.longitud_viga = longitud_viga\n",
    "        \n",
    "        display(HTML('<h2>Funciòn de carga</h2>'))\n",
    "        display(Math(r\"$$y=$$\"+ sp.latex(self.funcion_carga)))\n",
    "        \n",
    "        #Area\n",
    "        display(HTML('<h2>Integral de carga</h2>'))\n",
    "        display(Math(r\"$$Area = \\int_{a}^{b}$$\"+ sp.latex(self.funcion_carga )))\n",
    "        area = sp.integrate(self.funcion_carga)\n",
    "        \n",
    "        display(HTML(f'<h4>Evaluamos en [0,{self.longitud_viga}]</h4>'))\n",
    "        display(Math(f\"$$Area =$$\"+ sp.latex(area)))\n",
    "        \n",
    "        #Evaluar integral\n",
    "        area = area.subs(x,self.longitud_viga)\n",
    "        display(Math(f\"$$Area = $$\"+ sp.latex(area)))\n",
    "        \n",
    "        \n",
    "        \n",
    "        x_barra = x*(self.funcion_carga)\n",
    "        x_barra = sp.integrate(x_barra)\n",
    "        display(Math(r\"$$\\bar{x} = \\int_{a}^{b}$$\"+ sp.latex(x_barra)))\n",
    "        \n",
    "        display(HTML(f'<h4>Evaluamos en [0,{self.longitud_viga}]</h4>'))\n",
    "        x_barra = x_barra.subs(x,longitud_viga) \n",
    "        display(Math(r\"$$\\bar{x} =$$\"+ sp.latex(x_barra)))\n",
    "    \n",
    "        display(Math(r\"$$\\bar{x} = \\frac{x}{Area}$$\"))\n",
    "        centroide_x = x_barra/area\n",
    "        display(Math(r\"$$\\bar{x} =$$\"+ sp.latex(centroide_x)))\n",
    "    \n",
    "        lista = [area,centroide_x]\n",
    "        \n",
    "        return lista\n",
    "    \n",
    "    def reaciones(self,area,centroide_x,longitud_viga):\n",
    "        r3 = sp.Symbol('r3')\n",
    "        \n",
    "        display(HTML('<h2>Condiciones de equilibrio</h2>'))\n",
    "        \n",
    "        display(Math(r\"$$\\sum F_y=0$$\"))\n",
    "        display(Math(r\"$$R_1 + R_2 - $$\"+ sp.latex(area)+ r\"$$=0$$\"))\n",
    "        display(HTML('<h2>---------------------------------------------</h2>'))\n",
    "        display(Math(r\"$$\\curvearrowleft + \\sum M=0$$\"))\n",
    "        centroide_and_area = -1*(area*centroide_x)\n",
    "        reaccion_X_dista = r3*longitud_viga\n",
    "        display(Math(sp.latex(centroide_and_area)+ r\"$$+$$\"+ sp.latex(reaccion_X_dista)+ r\"$$ + M_1 = 0$$\"))\n",
    "        display(HTML('<h2>---------------------------------------------</h2>'))\n",
    "\n",
    "        \n",
    "    def diagrama_cortante(self):\n",
    "        x = sp.Symbol('x')\n",
    "        r1 = sp.Symbol(\"R_1\")\n",
    "        self.funcion_carga = -x**2 \n",
    "        display(Math(r\"$$V(x) = \\int$$\"+ sp.latex(self.funcion_carga)))\n",
    "        self.cortante = sp.integrate(self.funcion_carga) + r1\n",
    "        display(Math(r\"$$V(x)=$$\"+ sp.latex(self.cortante) ))\n",
    "        \n",
    "        display(HTML('<h2>---------------------------------------------</h2>'))\n",
    "\n",
    "        return self.cortante\n",
    "    \n",
    "    def diagrama_momento(self,cortante):\n",
    "        m1 = sp.Symbol('M_1')\n",
    "        m1 = m1*(-1)\n",
    "        x = sp.Symbol('x')\n",
    "        r1 = sp.Symbol(\"R_1\")\n",
    "        \n",
    "        display(HTML('<h2>Momento flector</h2>'))\n",
    "        display(Math(r\"$$M(x) = \\int$$\"+ sp.latex(cortante )))\n",
    "        momento_flector = sp.integrate(cortante,x) + m1\n",
    "        display(Math(r\"$$M(x)=$$\"+ sp.latex(momento_flector)))\n",
    "        display(HTML('<h2>---------------------------------------------</h2>'))\n",
    "        return momento_flector\n",
    "    \n",
    "    def diagrama_giro(self,momento_flector):\n",
    "        m1 = sp.Symbol('M_1')\n",
    "        m1 = m1*(-1)\n",
    "        x = sp.Symbol('x')\n",
    "        r1 = sp.Symbol(\"R_1\")\n",
    "        \n",
    "        display(HTML('<h2>Giro</h2>'))\n",
    "        display(Math(r\"$$EI\\varnothing(x) = \\int$$\"+ sp.latex(momento_flector )))\n",
    "        giro = sp.integrate(momento_flector,x)\n",
    "        display(Math(r\"$$EI\\varnothing(x) = $$\"+ sp.latex(giro)))\n",
    "        display(HTML('<h2>---------------------------------------------</h2>'))\n",
    "\n",
    "        return giro\n",
    "    \n",
    "    def diagrama_deformacion(self, giro):\n",
    "        \n",
    "        m1 = sp.Symbol('M_1')\n",
    "        m1 = m1*(-1)\n",
    "        x = sp.Symbol('x')\n",
    "        r1 = sp.Symbol(\"R_1\")\n",
    "        \n",
    "        display(HTML('<h2>Deformacion</h2>'))\n",
    "        display(Math(r\"$$EIY = \\int$$\"+ sp.latex(giro)))\n",
    "        deformacion = sp.integrate(giro,x)\n",
    "        display(Math(r\"$$EIY = $$\"+ sp.latex(deformacion)))\n",
    "        return deformacion\n",
    "    \n",
    "    \n",
    "        \n",
    "        \n",
    "    def evaluacion(self,longitud_viga,cortante,momento,giro,deformacion):\n",
    "        \n",
    "        \n",
    "        \n",
    "        fig = plt.figure()\n",
    "        ax = plt.subplot() \n",
    "        ax.grid(ls='--', lw=0.6)\n",
    "                \n",
    "        m1 = sp.Symbol('M_1')\n",
    "        m1 = m1*(-1)\n",
    "        x = sp.Symbol('x')\n",
    "        r1 = sp.Symbol(\"R_1\")\n",
    "        display(HTML(f'<h4>Evaluamos en [{longitud_viga}] nos queda: </h4>'))\n",
    "        \n",
    "        \n",
    "        cortante_evaluado = cortante.subs(x,longitud_viga) \n",
    "        display(Math(f\"$$V({longitud_viga}) =$$\"+ sp.latex(cortante_evaluado)))\n",
    "        display(HTML('<h4>---------------------------------------------</h4>'))\n",
    "\n",
    "        momento_evaluado = momento.subs(x,longitud_viga) \n",
    "        \n",
    "        display(Math(f\"$$M({longitud_viga}) =$$\"+ sp.latex(momento_evaluado)))\n",
    "        display(HTML('<h4>---------------------------------------------</h4>'))\n",
    "        \n",
    "        giro_evaluado = giro.subs(x,longitud_viga) \n",
    "        display(Math(f\"$$EI({longitud_viga}) =$$\"+ sp.latex(giro_evaluado)))\n",
    "        display(HTML('<h4>---------------------------------------------</h4>'))\n",
    "        \n",
    "        deformacion_evaluado = deformacion.subs(x,longitud_viga) \n",
    "        display(Math(f\"$$EIY({longitud_viga}) =$$\"+ sp.latex(deformacion_evaluado)))\n",
    "        \n",
    "        display(HTML('<h4>----Nos queda un sistema 2x2 -----</h4>'))\n",
    "        display(Math(sp.latex(momento_evaluado) + r\"$$ = 0 $$\"))\n",
    "        display(Math(sp.latex(deformacion_evaluado) + r\"$$ = 0 $$\"))\n",
    "        \n",
    "        display(HTML('<h4>---------------------------------------------</h4>'))\n",
    "\n",
    "        display(HTML('<h2>Resolviendo el sistema nos queda</h2>'))\n",
    "        \n",
    "        resultado = sp.solve([momento_evaluado,deformacion_evaluado],[m1,r1])\n",
    "      \n",
    "        valores = list(resultado.values())\n",
    "        print(valores)\n",
    "        valorm1 = valores[0]\n",
    "        display(Math(r\"$$M_1=$$\"+ sp.latex(valorm1)))\n",
    "        display(Math(r\"$$R_1=$$\"+ sp.latex(valores[1])))\n",
    "        \n",
    "        display(HTML('<h2>Reemplazamos en las ecuaciones anteriores</h2>'))\n",
    "        \n",
    "        valor_cortante = cortante_evaluado.subs([(m1, valorm1), (r1, valores[1])]) \n",
    "        valor_momento = momento_evaluado.subs([(m1, valorm1), (r1, valores[1])]) \n",
    "        valor_giro = giro_evaluado.subs([(m1, valorm1), (r1, valores[1])]) \n",
    "        valor_deformacion = deformacion_evaluado.subs([(m1, valorm1), (r1, valores[1])]) \n",
    "        \n",
    "        display(Math(r\"$$V_f=$$\"+ sp.latex(valor_cortante)))\n",
    "        display(Math(r\"$$M_f=$$\"+ sp.latex(valor_momento)))\n",
    "        display(Math(r\"$$EI_f=$$\"+ sp.latex(valor_giro)))\n",
    "        display(Math(r\"$$EIY_f=$$\"+ sp.latex(valor_deformacion)))\n",
    "        \n",
    "        display(HTML('<h2>Ecuaciones para evaluar en cualquier punto</h2>'))\n",
    "        \n",
    "        Egcortante = cortante.subs([(m1, valorm1), (r1, valores[1])])\n",
    "        Egmomento = momento.subs([(m1, valorm1), (r1, valores[1])])\n",
    "        Eggiro = giro.subs([(m1, valorm1), (r1, valores[1])])\n",
    "        Egdeformacion = deformacion.subs([(m1, valorm1), (r1, valores[1])])\n",
    "        \n",
    "        \n",
    "        display(Math(r\"$$V(x)=$$\"+ sp.latex(Egcortante)))\n",
    "        display(Math(r\"$$M(x)=$$\"+ sp.latex(Egmomento)))\n",
    "        display(Math(r\"$$EI(x)=$$\"+ sp.latex(Eggiro)))\n",
    "        display(Math(r\"$$EIY(x)=$$\"+ sp.latex(Egdeformacion)))\n",
    "        \n",
    "        display(HTML('<h2>Diagrama cortante</h2>'))\n",
    "\n",
    "        diagrama_cortante = sp.lambdify(x,Egcortante,np)\n",
    "        X = np.linspace(0,longitud_viga,10000)\n",
    "        Y = diagrama_cortante(X)\n",
    "        plt.plot(X,Y)\n",
    "        plt.ylabel( display(Math(r\"$$V(x)=$$\")))\n",
    "        plt.xlabel(\"Metros\")\n",
    "        ax.fill_between(X,0,Y, color=\"blue\", alpha=0.2)\n",
    "        plt.show()\n",
    "        ceros_cortante = sp.solveset(Egcortante,x,domain= sp.S.Reals)\n",
    "        \n",
    "        display(HTML('<h3>Los ceros de la ecuacion son:</h3>'))\n",
    "        display(Math(sp.latex(ceros_cortante)))\n",
    "        \n",
    "        fig = plt.figure()\n",
    "        ax = plt.subplot() \n",
    "        ax.grid(ls='--', lw=0.6)\n",
    "\n",
    "        display(HTML('<h2>Momento</h2>'))\n",
    "        diagrama_moment = sp.lambdify(x,Egmomento,np)\n",
    "        \n",
    "        \n",
    "        X = np.linspace(0,longitud_viga,10000)\n",
    "        Y = diagrama_moment(X)\n",
    "       \n",
    "        plt.plot(X,Y)\n",
    "        plt.ylabel( display(Math(r\"$$M(x)=$$\")))\n",
    "        plt.xlabel(\"Metros\")\n",
    "        ax.fill_between(X,0,Y, color=\"blue\", alpha=0.2)\n",
    "        plt.show()\n",
    "        \n",
    "        ceros_momento = sp.solveset(Egmomento,x,domain= sp.S.Reals)\n",
    "        display(HTML('<h3>Los ceros de la ecuacion son:</h3>'))\n",
    "        display(Math(sp.latex(ceros_momento)))\n",
    "        \n",
    "        fig = plt.figure()\n",
    "        ax = plt.subplot() \n",
    "        ax.grid(ls='--', lw=0.6)\n",
    "        \n",
    "        display(HTML('<h2>Giro</h2>'))\n",
    "        \n",
    "        diagrama_giro = sp.lambdify(x,Eggiro,np)\n",
    "        X = np.linspace(0,longitud_viga,10000)\n",
    "        Y = diagrama_giro(X)\n",
    "        plt.plot(X,Y)\n",
    "        plt.ylabel( display(Math(r\"$$EI(x)=$$\")))\n",
    "        plt.xlabel(\"Metros\")                \n",
    "        ax.fill_between(X,0,Y, color=\"blue\", alpha=0.2)\n",
    "        plt.show()\n",
    "        \n",
    "        ceros_giro = sp.solveset(Eggiro,x,domain= sp.S.Reals)\n",
    "        \n",
    "        \n",
    "        \n",
    "        fig = plt.figure()\n",
    "        ax = plt.subplot() \n",
    "        ax.grid(ls='--', lw=0.6)\n",
    "        \n",
    "        display(HTML('<h2>Deformacion</h2>'))\n",
    "        diagrama_deformacion= sp.lambdify(x,Egdeformacion,np)\n",
    "        X = np.linspace(0,longitud_viga,10000)\n",
    "        Y = diagrama_deformacion(X)\n",
    "        plt.plot(X,Y)\n",
    "        plt.ylabel( display(Math(r\"$$EIy(x)=$$\")))\n",
    "        plt.xlabel(\"Metros\") \n",
    "        ax.fill_between(X,0,Y, color=\"blue\", alpha=0.2)\n",
    "        plt.show()\n",
    "        \n",
    "        cero_deformacion = sp.solveset(Egdeformacion,x,domain= sp.S.Reals)\n",
    "        display(HTML('<h3>Los ceros de la ecuacion son:</h3>'))\n",
    "        display(Math(sp.latex(cero_deformacion)))\n",
    "        \n",
    "        \n",
    "        return\n",
    "        \n",
    "        \n",
    "\n",
    "    def plot(self):\n",
    " # -/-/-/-/-/-/-/-/- #Caractericticas inciales del plot -/-/-/-/-/-/-/-/-/-/-/-/-/-/-    \n",
    "        longitud_viga = 1 #metros\n",
    "        fig = plt.figure()\n",
    "        ax = plt.subplot() \n",
    "        ax.grid(ls='--', lw=0.6)\n",
    "\n",
    "        self.diseño_viga_apoyada(ax,longitud_viga)\n",
    "        self.funciones(longitud_viga,ax)\n",
    "        plt.title(\"Cargas distribuidas en una viga\")\n",
    "        ax.legend()\n",
    "        plt.show()\n",
    "        area_and_centroide = self.area_and_xbarra(longitud_viga)\n",
    "        area = area_and_centroide[0]\n",
    "        centroide = area_and_centroide[1]\n",
    "        reaciones = self.reaciones(area,centroide,longitud_viga)\n",
    "        \n",
    "        \n",
    "        \n",
    "        cortante = self.diagrama_cortante()\n",
    "        momento_flector = self.diagrama_momento(cortante)\n",
    "        giro = self.diagrama_giro(momento_flector)\n",
    "        deformacion = self.diagrama_deformacion(giro)\n",
    "        \n",
    "        self.evaluacion(longitud_viga,cortante,momento_flector,giro,deformacion)\n",
    "        \n",
    "        \n",
    "        \n",
    "        \n",
    "\n",
    "\n"
   ]
  },
  {
   "cell_type": "code",
   "execution_count": 85,
   "id": "3f3f7ed5",
   "metadata": {
    "scrolled": false
   },
   "outputs": [
    {
     "data": {
      "image/png": "[encoded data removed]",
      "text/plain": [
       "<Figure size 432x288 with 1 Axes>"
      ]
     },
     "metadata": {
      "needs_background": "light"
     },
     "output_type": "display_data"
    },
    {
     "data": {
      "text/html": [
       "<h2>Funciòn de carga</h2>"
      ],
      "text/plain": [
       "<IPython.core.display.HTML object>"
      ]
     },
     "metadata": {},
     "output_type": "display_data"
    },
    {
     "data": {
      "text/latex": [
       "$\\displaystyle y=$$x^{2}$"
      ],
      "text/plain": [
       "<IPython.core.display.Math object>"
      ]
     },
     "metadata": {},
     "output_type": "display_data"
    },
    {
     "data": {
      "text/html": [
       "<h2>Integral de carga</h2>"
      ],
      "text/plain": [
       "<IPython.core.display.HTML object>"
      ]
     },
     "metadata": {},
     "output_type": "display_data"
    },
    {
     "data": {
      "text/latex": [
       "$\\displaystyle Area = \\int_{a}^{b}$$x^{2}$"
      ],
      "text/plain": [
       "<IPython.core.display.Math object>"
      ]
     },
     "metadata": {},
     "output_type": "display_data"
    },
    {
     "data": {
      "text/html": [
       "<h4>Evaluamos en [0,1]</h4>"
      ],
      "text/plain": [
       "<IPython.core.display.HTML object>"
      ]
     },
     "metadata": {},
     "output_type": "display_data"
    },
    {
     "data": {
      "text/latex": [
       "$\\displaystyle Area =$$\\frac{x^{3}}{3}$"
      ],
      "text/plain": [
       "<IPython.core.display.Math object>"
      ]
     },
     "metadata": {},
     "output_type": "display_data"
    },
    {
     "data": {
      "text/latex": [
       "$\\displaystyle Area = $$\\frac{1}{3}$"
      ],
      "text/plain": [
       "<IPython.core.display.Math object>"
      ]
     },
     "metadata": {},
     "output_type": "display_data"
    },
    {
     "data": {
      "text/latex": [
       "$\\displaystyle \\bar{x} = \\int_{a}^{b}$$\\frac{x^{4}}{4}$"
      ],
      "text/plain": [
       "<IPython.core.display.Math object>"
      ]
     },
     "metadata": {},
     "output_type": "display_data"
    },
    {
     "data": {
      "text/html": [
       "<h4>Evaluamos en [0,1]</h4>"
      ],
      "text/plain": [
       "<IPython.core.display.HTML object>"
      ]
     },
     "metadata": {},
     "output_type": "display_data"
    },
    {
     "data": {
      "text/latex": [
       "$\\displaystyle \\bar{x} =$$\\frac{1}{4}$"
      ],
      "text/plain": [
       "<IPython.core.display.Math object>"
      ]
     },
     "metadata": {},
     "output_type": "display_data"
    },
    {
     "data": {
      "text/latex": [
       "$\\displaystyle \\bar{x} = \\frac{x}{Area}$"
      ],
      "text/plain": [
       "<IPython.core.display.Math object>"
      ]
     },
     "metadata": {},
     "output_type": "display_data"
    },
    {
     "data": {
      "text/latex": [
       "$\\displaystyle \\bar{x} =$$\\frac{3}{4}$"
      ],
      "text/plain": [
       "<IPython.core.display.Math object>"
      ]
     },
     "metadata": {},
     "output_type": "display_data"
    },
    {
     "data": {
      "text/html": [
       "<h2>Condiciones de equilibrio</h2>"
      ],
      "text/plain": [
       "<IPython.core.display.HTML object>"
      ]
     },
     "metadata": {},
     "output_type": "display_data"
    },
    {
     "data": {
      "text/latex": [
       "$\\displaystyle \\sum F_y=0$"
      ],
      "text/plain": [
       "<IPython.core.display.Math object>"
      ]
     },
     "metadata": {},
     "output_type": "display_data"
    },
    {
     "data": {
      "text/latex": [
       "$\\displaystyle R_1 + R_2 - $$\\frac{1}{3}$$=0$"
      ],
      "text/plain": [
       "<IPython.core.display.Math object>"
      ]
     },
     "metadata": {},
     "output_type": "display_data"
    },
    {
     "data": {
      "text/html": [
       "<h2>---------------------------------------------</h2>"
      ],
      "text/plain": [
       "<IPython.core.display.HTML object>"
      ]
     },
     "metadata": {},
     "output_type": "display_data"
    },
    {
     "data": {
      "text/latex": [
       "$\\displaystyle \\curvearrowleft + \\sum M=0$"
      ],
      "text/plain": [
       "<IPython.core.display.Math object>"
      ]
     },
     "metadata": {},
     "output_type": "display_data"
    },
    {
     "data": {
      "text/latex": [
       "$\\displaystyle - \\frac{1}{4}$$+$$r_{3}$$ + M_1 = 0$"
      ],
      "text/plain": [
       "<IPython.core.display.Math object>"
      ]
     },
     "metadata": {},
     "output_type": "display_data"
    },
    {
     "data": {
      "text/html": [
       "<h2>---------------------------------------------</h2>"
      ],
      "text/plain": [
       "<IPython.core.display.HTML object>"
      ]
     },
     "metadata": {},
     "output_type": "display_data"
    },
    {
     "data": {
      "text/latex": [
       "$\\displaystyle V(x) = \\int$$- x^{2}$"
      ],
      "text/plain": [
       "<IPython.core.display.Math object>"
      ]
     },
     "metadata": {},
     "output_type": "display_data"
    },
    {
     "data": {
      "text/latex": [
       "$\\displaystyle V(x)=$$R_{1} - \\frac{x^{3}}{3}$"
      ],
      "text/plain": [
       "<IPython.core.display.Math object>"
      ]
     },
     "metadata": {},
     "output_type": "display_data"
    },
    {
     "data": {
      "text/html": [
       "<h2>---------------------------------------------</h2>"
      ],
      "text/plain": [
       "<IPython.core.display.HTML object>"
      ]
     },
     "metadata": {},
     "output_type": "display_data"
    },
    {
     "data": {
      "text/html": [
       "<h2>Momento flector</h2>"
      ],
      "text/plain": [
       "<IPython.core.display.HTML object>"
      ]
     },
     "metadata": {},
     "output_type": "display_data"
    },
    {
     "data": {
      "text/latex": [
       "$\\displaystyle M(x) = \\int$$R_{1} - \\frac{x^{3}}{3}$"
      ],
      "text/plain": [
       "<IPython.core.display.Math object>"
      ]
     },
     "metadata": {},
     "output_type": "display_data"
    },
    {
     "data": {
      "text/latex": [
       "$\\displaystyle M(x)=$$- M_{1} + R_{1} x - \\frac{x^{4}}{12}$"
      ],
      "text/plain": [
       "<IPython.core.display.Math object>"
      ]
     },
     "metadata": {},
     "output_type": "display_data"
    },
    {
     "data": {
      "text/html": [
       "<h2>---------------------------------------------</h2>"
      ],
      "text/plain": [
       "<IPython.core.display.HTML object>"
      ]
     },
     "metadata": {},
     "output_type": "display_data"
    },
    {
     "data": {
      "text/html": [
       "<h2>Giro</h2>"
      ],
      "text/plain": [
       "<IPython.core.display.HTML object>"
      ]
     },
     "metadata": {},
     "output_type": "display_data"
    },
    {
     "data": {
      "text/latex": [
       "$\\displaystyle EI\\varnothing(x) = \\int$$- M_{1} + R_{1} x - \\frac{x^{4}}{12}$"
      ],
      "text/plain": [
       "<IPython.core.display.Math object>"
      ]
     },
     "metadata": {},
     "output_type": "display_data"
    },
    {
     "data": {
      "text/latex": [
       "$\\displaystyle EI\\varnothing(x) = $$- M_{1} x + \\frac{R_{1} x^{2}}{2} - \\frac{x^{5}}{60}$"
      ],
      "text/plain": [
       "<IPython.core.display.Math object>"
      ]
     },
     "metadata": {},
     "output_type": "display_data"
    },
    {
     "data": {
      "text/html": [
       "<h2>---------------------------------------------</h2>"
      ],
      "text/plain": [
       "<IPython.core.display.HTML object>"
      ]
     },
     "metadata": {},
     "output_type": "display_data"
    },
    {
     "data": {
      "text/html": [
       "<h2>Deformacion</h2>"
      ],
      "text/plain": [
       "<IPython.core.display.HTML object>"
      ]
     },
     "metadata": {},
     "output_type": "display_data"
    },
    {
     "data": {
      "text/latex": [
       "$\\displaystyle EIY = \\int$$- M_{1} x + \\frac{R_{1} x^{2}}{2} - \\frac{x^{5}}{60}$"
      ],
      "text/plain": [
       "<IPython.core.display.Math object>"
      ]
     },
     "metadata": {},
     "output_type": "display_data"
    },
    {
     "data": {
      "text/latex": [
       "$\\displaystyle EIY = $$- \\frac{M_{1} x^{2}}{2} + \\frac{R_{1} x^{3}}{6} - \\frac{x^{6}}{360}$"
      ],
      "text/plain": [
       "<IPython.core.display.Math object>"
      ]
     },
     "metadata": {},
     "output_type": "display_data"
    },
    {
     "data": {
      "text/html": [
       "<h4>Evaluamos en [1] nos queda: </h4>"
      ],
      "text/plain": [
       "<IPython.core.display.HTML object>"
      ]
     },
     "metadata": {},
     "output_type": "display_data"
    },
    {
     "data": {
      "text/latex": [
       "$\\displaystyle V(1) =$$R_{1} - \\frac{1}{3}$"
      ],
      "text/plain": [
       "<IPython.core.display.Math object>"
      ]
     },
     "metadata": {},
     "output_type": "display_data"
    },
    {
     "data": {
      "text/html": [
       "<h4>---------------------------------------------</h4>"
      ],
      "text/plain": [
       "<IPython.core.display.HTML object>"
      ]
     },
     "metadata": {},
     "output_type": "display_data"
    },
    {
     "data": {
      "text/latex": [
       "$\\displaystyle M(1) =$$- M_{1} + R_{1} - \\frac{1}{12}$"
      ],
      "text/plain": [
       "<IPython.core.display.Math object>"
      ]
     },
     "metadata": {},
     "output_type": "display_data"
    },
    {
     "data": {
      "text/html": [
       "<h4>---------------------------------------------</h4>"
      ],
      "text/plain": [
       "<IPython.core.display.HTML object>"
      ]
     },
     "metadata": {},
     "output_type": "display_data"
    },
    {
     "data": {
      "text/latex": [
       "$\\displaystyle EI(1) =$$- M_{1} + \\frac{R_{1}}{2} - \\frac{1}{60}$"
      ],
      "text/plain": [
       "<IPython.core.display.Math object>"
      ]
     },
     "metadata": {},
     "output_type": "display_data"
    },
    {
     "data": {
      "text/html": [
       "<h4>---------------------------------------------</h4>"
      ],
      "text/plain": [
       "<IPython.core.display.HTML object>"
      ]
     },
     "metadata": {},
     "output_type": "display_data"
    },
    {
     "data": {
      "text/latex": [
       "$\\displaystyle EIY(1) =$$- \\frac{M_{1}}{2} + \\frac{R_{1}}{6} - \\frac{1}{360}$"
      ],
      "text/plain": [
       "<IPython.core.display.Math object>"
      ]
     },
     "metadata": {},
     "output_type": "display_data"
    },
    {
     "data": {
      "text/html": [
       "<h4>----Nos queda un sistema 2x2 -----</h4>"
      ],
      "text/plain": [
       "<IPython.core.display.HTML object>"
      ]
     },
     "metadata": {},
     "output_type": "display_data"
    },
    {
     "data": {
      "text/latex": [
       "$\\displaystyle - M_{1} + R_{1} - \\frac{1}{12}$$ = 0 $"
      ],
      "text/plain": [
       "<IPython.core.display.Math object>"
      ]
     },
     "metadata": {},
     "output_type": "display_data"
    },
    {
     "data": {
      "text/latex": [
       "$\\displaystyle - \\frac{M_{1}}{2} + \\frac{R_{1}}{6} - \\frac{1}{360}$$ = 0 $"
      ],
      "text/plain": [
       "<IPython.core.display.Math object>"
      ]
     },
     "metadata": {},
     "output_type": "display_data"
    },
    {
     "data": {
      "text/html": [
       "<h4>---------------------------------------------</h4>"
      ],
      "text/plain": [
       "<IPython.core.display.HTML object>"
      ]
     },
     "metadata": {},
     "output_type": "display_data"
    },
    {
     "data": {
      "text/html": [
       "<h2>Resolviendo el sistema nos queda</h2>"
      ],
      "text/plain": [
       "<IPython.core.display.HTML object>"
      ]
     },
     "metadata": {},
     "output_type": "display_data"
    },
    {
     "name": "stdout",
     "output_type": "stream",
     "text": [
      "[-1/30, 7/60]\n"
     ]
    },
    {
     "data": {
      "text/latex": [
       "$\\displaystyle M_1=$$- \\frac{1}{30}$"
      ],
      "text/plain": [
       "<IPython.core.display.Math object>"
      ]
     },
     "metadata": {},
     "output_type": "display_data"
    },
    {
     "data": {
      "text/latex": [
       "$\\displaystyle R_1=$$\\frac{7}{60}$"
      ],
      "text/plain": [
       "<IPython.core.display.Math object>"
      ]
     },
     "metadata": {},
     "output_type": "display_data"
    },
    {
     "data": {
      "text/html": [
       "<h2>Reemplazamos en las ecuaciones anteriores</h2>"
      ],
      "text/plain": [
       "<IPython.core.display.HTML object>"
      ]
     },
     "metadata": {},
     "output_type": "display_data"
    },
    {
     "data": {
      "text/latex": [
       "$\\displaystyle V_f=$$- \\frac{13}{60}$"
      ],
      "text/plain": [
       "<IPython.core.display.Math object>"
      ]
     },
     "metadata": {},
     "output_type": "display_data"
    },
    {
     "data": {
      "text/latex": [
       "$\\displaystyle M_f=$$0$"
      ],
      "text/plain": [
       "<IPython.core.display.Math object>"
      ]
     },
     "metadata": {},
     "output_type": "display_data"
    },
    {
     "data": {
      "text/latex": [
       "$\\displaystyle EI_f=$$\\frac{1}{120}$"
      ],
      "text/plain": [
       "<IPython.core.display.Math object>"
      ]
     },
     "metadata": {},
     "output_type": "display_data"
    },
    {
     "data": {
      "text/latex": [
       "$\\displaystyle EIY_f=$$0$"
      ],
      "text/plain": [
       "<IPython.core.display.Math object>"
      ]
     },
     "metadata": {},
     "output_type": "display_data"
    },
    {
     "data": {
      "text/html": [
       "<h2>Ecuaciones para evaluar en cualquier punto</h2>"
      ],
      "text/plain": [
       "<IPython.core.display.HTML object>"
      ]
     },
     "metadata": {},
     "output_type": "display_data"
    },
    {
     "data": {
      "text/latex": [
       "$\\displaystyle V(x)=$$\\frac{7}{60} - \\frac{x^{3}}{3}$"
      ],
      "text/plain": [
       "<IPython.core.display.Math object>"
      ]
     },
     "metadata": {},
     "output_type": "display_data"
    },
    {
     "data": {
      "text/latex": [
       "$\\displaystyle M(x)=$$- \\frac{x^{4}}{12} + \\frac{7 x}{60} - \\frac{1}{30}$"
      ],
      "text/plain": [
       "<IPython.core.display.Math object>"
      ]
     },
     "metadata": {},
     "output_type": "display_data"
    },
    {
     "data": {
      "text/latex": [
       "$\\displaystyle EI(x)=$$- \\frac{x^{5}}{60} + \\frac{7 x^{2}}{120} - \\frac{x}{30}$"
      ],
      "text/plain": [
       "<IPython.core.display.Math object>"
      ]
     },
     "metadata": {},
     "output_type": "display_data"
    },
    {
     "data": {
      "text/latex": [
       "$\\displaystyle EIY(x)=$$- \\frac{x^{6}}{360} + \\frac{7 x^{3}}{360} - \\frac{x^{2}}{60}$"
      ],
      "text/plain": [
       "<IPython.core.display.Math object>"
      ]
     },
     "metadata": {},
     "output_type": "display_data"
    },
    {
     "data": {
      "text/html": [
       "<h2>Diagrama cortante</h2>"
      ],
      "text/plain": [
       "<IPython.core.display.HTML object>"
      ]
     },
     "metadata": {},
     "output_type": "display_data"
    },
    {
     "data": {
      "text/latex": [
       "$\\displaystyle V(x)=$"
      ],
      "text/plain": [
       "<IPython.core.display.Math object>"
      ]
     },
     "metadata": {},
     "output_type": "display_data"
    },
    {
     "data": {
      "image/png": "[encoded data removed]",
      "text/plain": [
       "<Figure size 432x288 with 1 Axes>"
      ]
     },
     "metadata": {
      "needs_background": "light"
     },
     "output_type": "display_data"
    },
    {
     "data": {
      "text/html": [
       "<h3>Los ceros de la ecuacion son:</h3>"
      ],
      "text/plain": [
       "<IPython.core.display.HTML object>"
      ]
     },
     "metadata": {},
     "output_type": "display_data"
    },
    {
     "data": {
      "text/latex": [
       "$\\displaystyle \\left\\{\\frac{\\sqrt[3]{350}}{10}\\right\\}$"
      ],
      "text/plain": [
       "<IPython.core.display.Math object>"
      ]
     },
     "metadata": {},
     "output_type": "display_data"
    },
    {
     "data": {
      "text/html": [
       "<h2>Momento</h2>"
      ],
      "text/plain": [
       "<IPython.core.display.HTML object>"
      ]
     },
     "metadata": {},
     "output_type": "display_data"
    },
    {
     "data": {
      "text/latex": [
       "$\\displaystyle M(x)=$"
      ],
      "text/plain": [
       "<IPython.core.display.Math object>"
      ]
     },
     "metadata": {},
     "output_type": "display_data"
    },
    {
     "data": {
      "image/png": "[encoded data removed]",
      "text/plain": [
       "<Figure size 432x288 with 1 Axes>"
      ]
     },
     "metadata": {
      "needs_background": "light"
     },
     "output_type": "display_data"
    },
    {
     "data": {
      "text/html": [
       "<h3>Los ceros de la ecuacion son:</h3>"
      ],
      "text/plain": [
       "<IPython.core.display.HTML object>"
      ]
     },
     "metadata": {},
     "output_type": "display_data"
    },
    {
     "data": {
      "text/latex": [
       "$\\displaystyle \\left\\{1, - \\frac{1}{3} - \\frac{2}{9 \\sqrt[3]{\\frac{89}{270} + \\frac{\\sqrt{969}}{90}}} + \\sqrt[3]{\\frac{89}{270} + \\frac{\\sqrt{969}}{90}}\\right\\}$"
      ],
      "text/plain": [
       "<IPython.core.display.Math object>"
      ]
     },
     "metadata": {},
     "output_type": "display_data"
    },
    {
     "data": {
      "text/html": [
       "<h2>Giro</h2>"
      ],
      "text/plain": [
       "<IPython.core.display.HTML object>"
      ]
     },
     "metadata": {},
     "output_type": "display_data"
    },
    {
     "data": {
      "text/latex": [
       "$\\displaystyle EI(x)=$"
      ],
      "text/plain": [
       "<IPython.core.display.Math object>"
      ]
     },
     "metadata": {},
     "output_type": "display_data"
    },
    {
     "data": {
      "image/png": "[encoded data removed]",
      "text/plain": [
       "<Figure size 432x288 with 1 Axes>"
      ]
     },
     "metadata": {
      "needs_background": "light"
     },
     "output_type": "display_data"
    },
    {
     "data": {
      "text/html": [
       "<h2>Deformacion</h2>"
      ],
      "text/plain": [
       "<IPython.core.display.HTML object>"
      ]
     },
     "metadata": {},
     "output_type": "display_data"
    },
    {
     "data": {
      "text/latex": [
       "$\\displaystyle EIy(x)=$"
      ],
      "text/plain": [
       "<IPython.core.display.Math object>"
      ]
     },
     "metadata": {},
     "output_type": "display_data"
    },
    {
     "data": {
      "image/png": "[encoded data removed]",
      "text/plain": [
       "<Figure size 432x288 with 1 Axes>"
      ]
     },
     "metadata": {
      "needs_background": "light"
     },
     "output_type": "display_data"
    },
    {
     "data": {
      "text/html": [
       "<h3>Los ceros de la ecuacion son:</h3>"
      ],
      "text/plain": [
       "<IPython.core.display.HTML object>"
      ]
     },
     "metadata": {},
     "output_type": "display_data"
    },
    {
     "data": {
      "text/latex": [
       "$\\displaystyle \\left\\{0, 1, - \\frac{1}{3} - \\frac{2}{9 \\sqrt[3]{\\frac{169}{54} + \\frac{\\sqrt{353}}{6}}} + \\sqrt[3]{\\frac{169}{54} + \\frac{\\sqrt{353}}{6}}\\right\\}$"
      ],
      "text/plain": [
       "<IPython.core.display.Math object>"
      ]
     },
     "metadata": {},
     "output_type": "display_data"
    }
   ],
   "source": [
    "if __name__ == '__main__':\n",
    "    cargasvigas = Cargasindeterminadas()\n",
    "    cargasvigas.plot()"
   ]
  },
  {
   "cell_type": "code",
   "execution_count": null,
   "id": "6b5395f6",
   "metadata": {},
   "outputs": [],
   "source": []
  },
  {
   "cell_type": "code",
   "execution_count": null,
   "id": "ddd1ed41",
   "metadata": {},
   "outputs": [],
   "source": []
  }
 ],
 "metadata": {
  "kernelspec": {
   "display_name": "Python 3 (ipykernel)",
   "language": "python",
   "name": "python3"
  },
  "language_info": {
   "codemirror_mode": {
    "name": "ipython",
    "version": 3
   },
   "file_extension": ".py",
   "mimetype": "text/x-python",
   "name": "python",
   "nbconvert_exporter": "python",
   "pygments_lexer": "ipython3",
   "version": "3.8.8"
  }
 },
 "nbformat": 4,
 "nbformat_minor": 5
}
